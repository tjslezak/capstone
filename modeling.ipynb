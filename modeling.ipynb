{
 "cells": [
  {
   "cell_type": "markdown",
   "metadata": {},
   "source": [
    "This notebook demonstrates the steps to translate your processed sentinel-2 imagery into a predictive model."
   ]
  },
  {
   "cell_type": "code",
   "execution_count": 209,
   "metadata": {},
   "outputs": [],
   "source": [
    "def find_divisors(dimension, min_size=0, max_size=900):\n",
    "    ''' \n",
    "    Returns dict with possible number of tiles and tile size in pixels.\n",
    "    '''\n",
    "    terms = dict()\n",
    "    for i in range(1, max_size):\n",
    "        if dimension % i == 0:\n",
    "            div = round(dimension / i)\n",
    "            if (div <= min_size) or (div >= max_size):\n",
    "                continue\n",
    "            if div**2 in terms.keys():\n",
    "                break\n",
    "            terms[i**2] = div\n",
    "            \n",
    "    return terms"
   ]
  },
  {
   "cell_type": "code",
   "execution_count": 225,
   "metadata": {},
   "outputs": [
    {
     "data": {
      "text/plain": [
       "{81: 610, 100: 549, 225: 366, 324: 305, 900: 183, 2025: 122, 3721: 90}"
      ]
     },
     "execution_count": 225,
     "metadata": {},
     "output_type": "execute_result"
    }
   ],
   "source": [
    "divs = find_divisors(w)\n",
    "divs"
   ]
  },
  {
   "cell_type": "code",
   "execution_count": 185,
   "metadata": {},
   "outputs": [],
   "source": [
    "divs = find_divisors(w)\n",
    "num_tiles, px_size = (min(divs.keys()), divs.pop(min(divs.keys()))) # num_tiles, size in pixels"
   ]
  },
  {
   "cell_type": "code",
   "execution_count": 1,
   "metadata": {},
   "outputs": [],
   "source": [
    "import pandas as pd\n",
    "df = pd.read_clipboard()"
   ]
  },
  {
   "cell_type": "code",
   "execution_count": 2,
   "metadata": {},
   "outputs": [
    {
     "name": "stdout",
     "output_type": "stream",
     "text": [
      "Approximately 6.71 hours remaining of 23.87 hours total.\n"
     ]
    }
   ],
   "source": [
    "t = df.iloc[:, 6].apply(lambda x: x[1:]).astype(float).mean()\n",
    "b = df.iloc[:, 2].apply(lambda x: x[:-1]).astype(int).max()\n",
    "print('Approximately', round(((1.5e5 - b) * t ) / (60**2), 2), 'hours remaining of', round(((1.5e5) * t ) / (60**2), 2), 'hours total.')"
   ]
  },
  {
   "cell_type": "code",
   "execution_count": 21,
   "metadata": {},
   "outputs": [],
   "source": []
  },
  {
   "cell_type": "code",
   "execution_count": null,
   "metadata": {},
   "outputs": [],
   "source": []
  },
  {
   "cell_type": "code",
   "execution_count": null,
   "metadata": {},
   "outputs": [],
   "source": []
  },
  {
   "cell_type": "code",
   "execution_count": null,
   "metadata": {},
   "outputs": [],
   "source": []
  }
 ],
 "metadata": {
  "kernelspec": {
   "display_name": "Python 3",
   "language": "python",
   "name": "python3"
  },
  "language_info": {
   "codemirror_mode": {
    "name": "ipython",
    "version": 3
   },
   "file_extension": ".py",
   "mimetype": "text/x-python",
   "name": "python",
   "nbconvert_exporter": "python",
   "pygments_lexer": "ipython3",
   "version": "3.7.1"
  }
 },
 "nbformat": 4,
 "nbformat_minor": 2
}
