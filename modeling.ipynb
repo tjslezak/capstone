{
 "cells": [
  {
   "cell_type": "markdown",
   "metadata": {},
   "source": [
    "This notebook demonstrates the steps to translate your processed sentinel-2 imagery into a predictive model."
   ]
  },
  {
   "cell_type": "code",
   "execution_count": null,
   "metadata": {},
   "outputs": [],
   "source": []
  },
  {
   "cell_type": "code",
   "execution_count": 209,
   "metadata": {},
   "outputs": [],
   "source": [
    "def find_divisors(dimension, min_size=0, max_size=900):\n",
    "    ''' \n",
    "    Returns dict with possible number of tiles and tile size in pixels.\n",
    "    '''\n",
    "    terms = dict()\n",
    "    for i in range(1, max_size):\n",
    "        if dimension % i == 0:\n",
    "            div = round(dimension / i)\n",
    "            if (div <= min_size) or (div >= max_size):\n",
    "                continue\n",
    "            if div**2 in terms.keys():\n",
    "                break\n",
    "            terms[i**2] = div\n",
    "            \n",
    "    return terms"
   ]
  },
  {
   "cell_type": "code",
   "execution_count": 225,
   "metadata": {},
   "outputs": [
    {
     "data": {
      "text/plain": [
       "{81: 610, 100: 549, 225: 366, 324: 305, 900: 183, 2025: 122, 3721: 90}"
      ]
     },
     "execution_count": 225,
     "metadata": {},
     "output_type": "execute_result"
    }
   ],
   "source": [
    "divs = find_divisors(w)\n",
    "divs"
   ]
  },
  {
   "cell_type": "code",
   "execution_count": 185,
   "metadata": {},
   "outputs": [],
   "source": [
    "divs = find_divisors(w)\n",
    "num_tiles, px_size = (min(divs.keys()), divs.pop(min(divs.keys()))) # num_tiles, size in pixels"
   ]
  },
  {
   "cell_type": "code",
   "execution_count": 1,
   "metadata": {},
   "outputs": [],
   "source": [
    "import pandas as pd\n",
    "df = pd.read_clipboard()"
   ]
  },
  {
   "cell_type": "code",
   "execution_count": 2,
   "metadata": {},
   "outputs": [
    {
     "name": "stdout",
     "output_type": "stream",
     "text": [
      "Approximately 6.71 hours remaining of 23.87 hours total.\n"
     ]
    }
   ],
   "source": [
    "t = df.iloc[:, 6].apply(lambda x: x[1:]).astype(float).mean()\n",
    "b = df.iloc[:, 2].apply(lambda x: x[:-1]).astype(int).max()\n",
    "print('Approximately', round(((1.5e5 - b) * t ) / (60**2), 2), 'hours remaining of', round(((1.5e5) * t ) / (60**2), 2), 'hours total.')"
   ]
  },
  {
   "cell_type": "code",
   "execution_count": 43,
   "metadata": {},
   "outputs": [],
   "source": [
    "import pandas as pd\n",
    "import hvplot.pandas"
   ]
  },
  {
   "cell_type": "code",
   "execution_count": 44,
   "metadata": {},
   "outputs": [],
   "source": [
    "data = pd.read_json('s3://tjds/results/eval/geoss-xception-batch12/eval.json')\n",
    "data.set_index('class_name', inplace=True)"
   ]
  },
  {
   "cell_type": "code",
   "execution_count": 45,
   "metadata": {},
   "outputs": [
    {
     "data": {
      "text/html": [
       "<div>\n",
       "<style scoped>\n",
       "    .dataframe tbody tr th:only-of-type {\n",
       "        vertical-align: middle;\n",
       "    }\n",
       "\n",
       "    .dataframe tbody tr th {\n",
       "        vertical-align: top;\n",
       "    }\n",
       "\n",
       "    .dataframe thead th {\n",
       "        text-align: right;\n",
       "    }\n",
       "</style>\n",
       "<table border=\"1\" class=\"dataframe\">\n",
       "  <thead>\n",
       "    <tr style=\"text-align: right;\">\n",
       "      <th></th>\n",
       "      <th>class_id</th>\n",
       "      <th>count_error</th>\n",
       "      <th>f1</th>\n",
       "      <th>gt_count</th>\n",
       "      <th>precision</th>\n",
       "      <th>recall</th>\n",
       "    </tr>\n",
       "    <tr>\n",
       "      <th>class_name</th>\n",
       "      <th></th>\n",
       "      <th></th>\n",
       "      <th></th>\n",
       "      <th></th>\n",
       "      <th></th>\n",
       "      <th></th>\n",
       "    </tr>\n",
       "  </thead>\n",
       "  <tbody>\n",
       "    <tr>\n",
       "      <th>Ys</th>\n",
       "      <td>0.0</td>\n",
       "      <td>0.000000</td>\n",
       "      <td>NaN</td>\n",
       "      <td>169744</td>\n",
       "      <td>NaN</td>\n",
       "      <td>NaN</td>\n",
       "    </tr>\n",
       "    <tr>\n",
       "      <th>Xg</th>\n",
       "      <td>1.0</td>\n",
       "      <td>597630.702858</td>\n",
       "      <td>0.295307</td>\n",
       "      <td>310649</td>\n",
       "      <td>0.227390</td>\n",
       "      <td>0.427775</td>\n",
       "    </tr>\n",
       "    <tr>\n",
       "      <th>Jm</th>\n",
       "      <td>2.0</td>\n",
       "      <td>10436.000000</td>\n",
       "      <td>NaN</td>\n",
       "      <td>0</td>\n",
       "      <td>0.000000</td>\n",
       "      <td>NaN</td>\n",
       "    </tr>\n",
       "    <tr>\n",
       "      <th>Xm</th>\n",
       "      <td>3.0</td>\n",
       "      <td>833792.608458</td>\n",
       "      <td>0.064170</td>\n",
       "      <td>115625</td>\n",
       "      <td>0.035605</td>\n",
       "      <td>0.357526</td>\n",
       "    </tr>\n",
       "    <tr>\n",
       "      <th>Js</th>\n",
       "      <td>4.0</td>\n",
       "      <td>489232.000000</td>\n",
       "      <td>0.627898</td>\n",
       "      <td>606075</td>\n",
       "      <td>0.582434</td>\n",
       "      <td>0.681059</td>\n",
       "    </tr>\n",
       "  </tbody>\n",
       "</table>\n",
       "</div>"
      ],
      "text/plain": [
       "            class_id    count_error        f1  gt_count  precision    recall\n",
       "class_name                                                                  \n",
       "Ys               0.0       0.000000       NaN    169744        NaN       NaN\n",
       "Xg               1.0  597630.702858  0.295307    310649   0.227390  0.427775\n",
       "Jm               2.0   10436.000000       NaN         0   0.000000       NaN\n",
       "Xm               3.0  833792.608458  0.064170    115625   0.035605  0.357526\n",
       "Js               4.0  489232.000000  0.627898    606075   0.582434  0.681059"
      ]
     },
     "execution_count": 45,
     "metadata": {},
     "output_type": "execute_result"
    }
   ],
   "source": [
    "data.head()"
   ]
  },
  {
   "cell_type": "code",
   "execution_count": 58,
   "metadata": {},
   "outputs": [
    {
     "data": {
      "application/javascript": [
       "\n",
       "// Ugly hack - see HoloViews #2574 for more information\n",
       "if (!(document.getElementById('9068')) && !(document.getElementById('_anim_imgNone'))) {\n",
       "  console.log(\"Creating DOM nodes dynamically for assumed nbconvert export. To generate clean HTML output set HV_DOC_HTML as an environment variable.\")\n",
       "  var htmlObject = document.createElement('div');\n",
       "  htmlObject.innerHTML = `<div id='9068' style='display: table; margin: 0 auto;'>\n",
       "\n",
       "\n",
       "\n",
       "\n",
       "\n",
       "  <div class=\"bk-root\" id=\"b4029e99-cc9f-403d-ad71-780b574bb91d\"></div>\n",
       "</div>`;\n",
       "  var scriptTags = document.getElementsByTagName('script');\n",
       "  var parentTag = scriptTags[scriptTags.length-1].parentNode;\n",
       "  if (parentTag.attributes.length && (parentTag.attributes[0].name == 'data-shell-mode')) {\n",
       "    alert('Displaying PyViz objects in JupyterLab requires the jupyterlab_pyviz extension to be installed, install it with:\\n\\n\\tjupyter labextension install @pyviz/jupyterlab_pyviz');\n",
       "  } else {\n",
       "    parentTag.append(htmlObject)\n",
       "  }\n",
       "}\n",
       "(function(root) {\n",
       "  function embed_document(root) {\n",
       "    \n",
       "  var docs_json = {\"593c9c57-160b-49d7-bc15-73988d0945b6\":{\"roots\":{\"references\":[{\"attributes\":{\"below\":[{\"id\":\"9076\",\"type\":\"LinearAxis\"}],\"left\":[{\"id\":\"9081\",\"type\":\"LinearAxis\"}],\"min_border_bottom\":10,\"min_border_left\":10,\"min_border_right\":10,\"min_border_top\":10,\"plot_height\":300,\"plot_width\":700,\"renderers\":[{\"id\":\"9076\",\"type\":\"LinearAxis\"},{\"id\":\"9080\",\"type\":\"Grid\"},{\"id\":\"9081\",\"type\":\"LinearAxis\"},{\"id\":\"9085\",\"type\":\"Grid\"},{\"id\":\"9096\",\"type\":\"BoxAnnotation\"},{\"id\":\"9111\",\"type\":\"GlyphRenderer\"},{\"id\":\"9119\",\"type\":\"GlyphRenderer\"}],\"title\":{\"id\":\"9067\",\"type\":\"Title\"},\"toolbar\":{\"id\":\"9091\",\"type\":\"Toolbar\"},\"x_range\":{\"id\":\"9063\",\"type\":\"Range1d\"},\"x_scale\":{\"id\":\"9072\",\"type\":\"LinearScale\"},\"y_range\":{\"id\":\"9064\",\"type\":\"Range1d\"},\"y_scale\":{\"id\":\"9074\",\"type\":\"LinearScale\"}},\"id\":\"9068\",\"subtype\":\"Figure\",\"type\":\"Plot\"},{\"attributes\":{\"axis_label\":\"\",\"bounds\":\"auto\",\"formatter\":{\"id\":\"9103\",\"type\":\"BasicTickFormatter\"},\"major_label_orientation\":\"horizontal\",\"plot\":{\"id\":\"9068\",\"subtype\":\"Figure\",\"type\":\"Plot\"},\"ticker\":{\"id\":\"9082\",\"type\":\"BasicTicker\"}},\"id\":\"9081\",\"type\":\"LinearAxis\"},{\"attributes\":{},\"id\":\"9114\",\"type\":\"Selection\"},{\"attributes\":{},\"id\":\"9088\",\"type\":\"WheelZoomTool\"},{\"attributes\":{\"plot\":null,\"text\":\"\",\"text_color\":{\"value\":\"black\"},\"text_font_size\":{\"value\":\"12pt\"}},\"id\":\"9067\",\"type\":\"Title\"},{\"attributes\":{\"bottom\":{\"value\":0},\"fill_alpha\":{\"value\":0.2},\"fill_color\":{\"value\":\"#1f77b4\"},\"left\":{\"field\":\"left\"},\"line_alpha\":{\"value\":0.2},\"line_color\":{\"value\":\"black\"},\"right\":{\"field\":\"right\"},\"top\":{\"field\":\"top\"}},\"id\":\"9110\",\"type\":\"Quad\"},{\"attributes\":{\"data_source\":{\"id\":\"9105\",\"type\":\"ColumnDataSource\"},\"glyph\":{\"id\":\"9108\",\"type\":\"Quad\"},\"hover_glyph\":null,\"muted_glyph\":{\"id\":\"9110\",\"type\":\"Quad\"},\"nonselection_glyph\":{\"id\":\"9109\",\"type\":\"Quad\"},\"selection_glyph\":null,\"view\":{\"id\":\"9112\",\"type\":\"CDSView\"}},\"id\":\"9111\",\"type\":\"GlyphRenderer\"},{\"attributes\":{\"source\":{\"id\":\"9105\",\"type\":\"ColumnDataSource\"}},\"id\":\"9112\",\"type\":\"CDSView\"},{\"attributes\":{\"callback\":null,\"renderers\":[{\"id\":\"9119\",\"type\":\"GlyphRenderer\"}],\"tooltips\":[[\"recall\",\"@{recall}\"],[\"Count\",\"@{recall_count}\"]]},\"id\":\"9066\",\"type\":\"HoverTool\"},{\"attributes\":{},\"id\":\"9087\",\"type\":\"PanTool\"},{\"attributes\":{\"callback\":null,\"end\":9.0,\"reset_end\":9.0,\"reset_start\":0.0,\"tags\":[[[\"precision_count\",\"Count\",null]]]},\"id\":\"9064\",\"type\":\"Range1d\"},{\"attributes\":{\"callback\":null,\"data\":{\"left\":{\"__ndarray__\":\"AAAAAAAAAADdrm0/MZipP92ubT8xmLk/JkOS7yQywz/drm0/MZjJP5QaSY89/s8/JkOS7yQy0z8B+X8XK2XWP92ubT8xmNk/uWRbZzfL3D+UGkmPPf7fPzhom9uhmOE/JkOS7yQy4z8UHokDqMvkPwH5fxcrZeY/79N2K67+5z/drm0/MZjpP8uJZFO0Mes/uWRbZzfL7D+mP1J7umTuPw==\",\"dtype\":\"float64\",\"shape\":[20]},\"recall\":{\"__ndarray__\":\"3a5tPzGYmT8mQ5LvJDKzP5QaSY89/r8/Avl/Fytlxj+4ZFtnN8vMPzhom9uhmNE/FB6JA6jL1D/v03Yrrv7XP8uJZFO0Mds/pj9Se7pk3j/B+p9R4MvgP6/VlmVjZeI/nbCNeeb+4z+Ki4SNaZjlP3hme6HsMec/ZkFytW/L6D9UHGnJ8mTqP0L3X911/us/MNJW8fiX7T8drU0FfDHvPw==\",\"dtype\":\"float64\",\"shape\":[20]},\"recall_count\":[7,2,1,2,0,2,3,3,1,2,2,2,1,2,2,2,4,3,1,1],\"right\":{\"__ndarray__\":\"3a5tPzGYqT/drm0/MZi5PyZDku8kMsM/3a5tPzGYyT+UGkmPPf7PPyZDku8kMtM/Afl/Fytl1j/drm0/MZjZP7lkW2c3y9w/lBpJjz3+3z84aJvboZjhPyZDku8kMuM/FB6JA6jL5D8B+X8XK2XmP+/Tdiuu/uc/3a5tPzGY6T/LiWRTtDHrP7lkW2c3y+w/pj9Se7pk7j+UGkmPPf7vPw==\",\"dtype\":\"float64\",\"shape\":[20]},\"top\":[7,2,1,2,0,2,3,3,1,2,2,2,1,2,2,2,4,3,1,1]},\"selected\":{\"id\":\"9114\",\"type\":\"Selection\"},\"selection_policy\":{\"id\":\"9130\",\"type\":\"UnionRenderers\"}},\"id\":\"9113\",\"type\":\"ColumnDataSource\"},{\"attributes\":{},\"id\":\"9082\",\"type\":\"BasicTicker\"},{\"attributes\":{},\"id\":\"9101\",\"type\":\"BasicTickFormatter\"},{\"attributes\":{},\"id\":\"9090\",\"type\":\"ResetTool\"},{\"attributes\":{},\"id\":\"9074\",\"type\":\"LinearScale\"},{\"attributes\":{\"callback\":null,\"data\":{\"left\":{\"__ndarray__\":\"AAAAAAAAAAAKbzNiAJSpPwpvM2IAlLk/SJOmSQAvwz8KbzNiAJTJP8xKwHoA+c8/SJOmSQAv0z8pAe1VgGHWPwpvM2IAlNk/69x5boDG3D/MSsB6APnfP1dcg0PAleE/SJOmSQAv4z84yslPQMjkPykB7VWAYeY/GTgQXMD65z8KbzNiAJTpP/ulVmhALes/69x5boDG7D/cE510wF/uPw==\",\"dtype\":\"float64\",\"shape\":[20]},\"precision\":{\"__ndarray__\":\"Cm8zYgCUmT9Ik6ZJAC+zP81KwHoA+b8/KQHtVYBhxj/r3HlugMbMP1dcg0PAldE/OMrJT0DI1D8aOBBcwPrXP/qlVmhALds/3BOddMBf3j/ewHFAIMngP9D3lEZgYuI/wC64TKD74z+wZdtS4JTlP6Gc/lggLuc/ktMhX2DH6D+CCkVloGDqP3NBaGvg+es/ZHiLcSCT7T9Ur653YCzvPw==\",\"dtype\":\"float64\",\"shape\":[20]},\"precision_count\":[9,1,0,1,3,2,3,0,0,4,3,2,2,5,3,3,1,2,0,1],\"right\":{\"__ndarray__\":\"Cm8zYgCUqT8KbzNiAJS5P0iTpkkAL8M/Cm8zYgCUyT/MSsB6APnPP0iTpkkAL9M/KQHtVYBh1j8KbzNiAJTZP+vceW6Axtw/zErAegD53z9XXINDwJXhP0iTpkkAL+M/OMrJT0DI5D8pAe1VgGHmPxk4EFzA+uc/Cm8zYgCU6T/7pVZoQC3rP+vceW6Axuw/3BOddMBf7j/NSsB6APnvPw==\",\"dtype\":\"float64\",\"shape\":[20]},\"top\":[9,1,0,1,3,2,3,0,0,4,3,2,2,5,3,3,1,2,0,1]},\"selected\":{\"id\":\"9106\",\"type\":\"Selection\"},\"selection_policy\":{\"id\":\"9128\",\"type\":\"UnionRenderers\"}},\"id\":\"9105\",\"type\":\"ColumnDataSource\"},{\"attributes\":{\"axis_label\":\"precision\",\"bounds\":\"auto\",\"formatter\":{\"id\":\"9101\",\"type\":\"BasicTickFormatter\"},\"major_label_orientation\":\"horizontal\",\"plot\":{\"id\":\"9068\",\"subtype\":\"Figure\",\"type\":\"Plot\"},\"ticker\":{\"id\":\"9077\",\"type\":\"BasicTicker\"}},\"id\":\"9076\",\"type\":\"LinearAxis\"},{\"attributes\":{\"callback\":null,\"end\":0.999785213331807,\"reset_end\":0.999785213331807,\"reset_start\":0.0,\"tags\":[[[\"precision\",\"precision\",null]]]},\"id\":\"9063\",\"type\":\"Range1d\"},{\"attributes\":{\"bottom\":{\"value\":0},\"fill_alpha\":{\"value\":0.8},\"fill_color\":{\"value\":\"#1f77b4\"},\"left\":{\"field\":\"left\"},\"line_alpha\":{\"value\":0.8},\"line_color\":{\"value\":\"black\"},\"right\":{\"field\":\"right\"},\"top\":{\"field\":\"top\"}},\"id\":\"9109\",\"type\":\"Quad\"},{\"attributes\":{},\"id\":\"9086\",\"type\":\"SaveTool\"},{\"attributes\":{},\"id\":\"9106\",\"type\":\"Selection\"},{\"attributes\":{},\"id\":\"9128\",\"type\":\"UnionRenderers\"},{\"attributes\":{\"callback\":null,\"renderers\":[{\"id\":\"9111\",\"type\":\"GlyphRenderer\"}],\"tooltips\":[[\"precision\",\"@{precision}\"],[\"Count\",\"@{precision_count}\"]]},\"id\":\"9065\",\"type\":\"HoverTool\"},{\"attributes\":{\"bottom_units\":\"screen\",\"fill_alpha\":{\"value\":0.5},\"fill_color\":{\"value\":\"lightgrey\"},\"left_units\":\"screen\",\"level\":\"overlay\",\"line_alpha\":{\"value\":1.0},\"line_color\":{\"value\":\"black\"},\"line_dash\":[4,4],\"line_width\":{\"value\":2},\"plot\":null,\"render_mode\":\"css\",\"right_units\":\"screen\",\"top_units\":\"screen\"},\"id\":\"9096\",\"type\":\"BoxAnnotation\"},{\"attributes\":{\"overlay\":{\"id\":\"9096\",\"type\":\"BoxAnnotation\"}},\"id\":\"9089\",\"type\":\"BoxZoomTool\"},{\"attributes\":{\"active_drag\":\"auto\",\"active_inspect\":\"auto\",\"active_multi\":null,\"active_scroll\":\"auto\",\"active_tap\":\"auto\",\"tools\":[{\"id\":\"9065\",\"type\":\"HoverTool\"},{\"id\":\"9066\",\"type\":\"HoverTool\"},{\"id\":\"9086\",\"type\":\"SaveTool\"},{\"id\":\"9087\",\"type\":\"PanTool\"},{\"id\":\"9088\",\"type\":\"WheelZoomTool\"},{\"id\":\"9089\",\"type\":\"BoxZoomTool\"},{\"id\":\"9090\",\"type\":\"ResetTool\"}]},\"id\":\"9091\",\"type\":\"Toolbar\"},{\"attributes\":{\"dimension\":1,\"grid_line_color\":{\"value\":null},\"plot\":{\"id\":\"9068\",\"subtype\":\"Figure\",\"type\":\"Plot\"},\"ticker\":{\"id\":\"9082\",\"type\":\"BasicTicker\"}},\"id\":\"9085\",\"type\":\"Grid\"},{\"attributes\":{},\"id\":\"9077\",\"type\":\"BasicTicker\"},{\"attributes\":{\"data_source\":{\"id\":\"9113\",\"type\":\"ColumnDataSource\"},\"glyph\":{\"id\":\"9116\",\"type\":\"Quad\"},\"hover_glyph\":null,\"muted_glyph\":{\"id\":\"9118\",\"type\":\"Quad\"},\"nonselection_glyph\":{\"id\":\"9117\",\"type\":\"Quad\"},\"selection_glyph\":null,\"view\":{\"id\":\"9120\",\"type\":\"CDSView\"}},\"id\":\"9119\",\"type\":\"GlyphRenderer\"},{\"attributes\":{\"bottom\":{\"value\":0},\"fill_alpha\":{\"value\":0.8},\"fill_color\":{\"value\":\"#1f77b4\"},\"left\":{\"field\":\"left\"},\"line_alpha\":{\"value\":0.8},\"right\":{\"field\":\"right\"},\"top\":{\"field\":\"top\"}},\"id\":\"9108\",\"type\":\"Quad\"},{\"attributes\":{},\"id\":\"9130\",\"type\":\"UnionRenderers\"},{\"attributes\":{\"grid_line_color\":{\"value\":null},\"plot\":{\"id\":\"9068\",\"subtype\":\"Figure\",\"type\":\"Plot\"},\"ticker\":{\"id\":\"9077\",\"type\":\"BasicTicker\"}},\"id\":\"9080\",\"type\":\"Grid\"},{\"attributes\":{},\"id\":\"9103\",\"type\":\"BasicTickFormatter\"},{\"attributes\":{\"source\":{\"id\":\"9113\",\"type\":\"ColumnDataSource\"}},\"id\":\"9120\",\"type\":\"CDSView\"},{\"attributes\":{\"bottom\":{\"value\":0},\"fill_alpha\":{\"value\":0.8},\"fill_color\":{\"value\":\"#ff7f0e\"},\"left\":{\"field\":\"left\"},\"line_alpha\":{\"value\":0.8},\"line_color\":{\"value\":\"black\"},\"right\":{\"field\":\"right\"},\"top\":{\"field\":\"top\"}},\"id\":\"9117\",\"type\":\"Quad\"},{\"attributes\":{\"bottom\":{\"value\":0},\"fill_alpha\":{\"value\":0.2},\"fill_color\":{\"value\":\"#ff7f0e\"},\"left\":{\"field\":\"left\"},\"line_alpha\":{\"value\":0.2},\"line_color\":{\"value\":\"black\"},\"right\":{\"field\":\"right\"},\"top\":{\"field\":\"top\"}},\"id\":\"9118\",\"type\":\"Quad\"},{\"attributes\":{},\"id\":\"9072\",\"type\":\"LinearScale\"},{\"attributes\":{\"bottom\":{\"value\":0},\"fill_alpha\":{\"value\":0.8},\"fill_color\":{\"value\":\"#ff7f0e\"},\"left\":{\"field\":\"left\"},\"line_alpha\":{\"value\":0.8},\"right\":{\"field\":\"right\"},\"top\":{\"field\":\"top\"}},\"id\":\"9116\",\"type\":\"Quad\"}],\"root_ids\":[\"9068\"]},\"title\":\"Bokeh Application\",\"version\":\"1.0.0\"}};\n",
       "  var render_items = [{\"docid\":\"593c9c57-160b-49d7-bc15-73988d0945b6\",\"roots\":{\"9068\":\"b4029e99-cc9f-403d-ad71-780b574bb91d\"}}];\n",
       "  root.Bokeh.embed.embed_items_notebook(docs_json, render_items);\n",
       "\n",
       "  }\n",
       "  if (root.Bokeh !== undefined) {\n",
       "    embed_document(root);\n",
       "  } else {\n",
       "    var attempts = 0;\n",
       "    var timer = setInterval(function(root) {\n",
       "      if (root.Bokeh !== undefined) {\n",
       "        embed_document(root);\n",
       "        clearInterval(timer);\n",
       "      }\n",
       "      attempts++;\n",
       "      if (attempts > 100) {\n",
       "        console.log(\"Bokeh: ERROR: Unable to run BokehJS code because BokehJS library is missing\");\n",
       "        clearInterval(timer);\n",
       "      }\n",
       "    }, 10, root)\n",
       "  }\n",
       "})(window);"
      ],
      "application/vnd.holoviews_exec.v0+json": "",
      "text/html": [
       "<div id='9068' style='display: table; margin: 0 auto;'>\n",
       "\n",
       "\n",
       "\n",
       "\n",
       "\n",
       "  <div class=\"bk-root\" id=\"b4029e99-cc9f-403d-ad71-780b574bb91d\"></div>\n",
       "</div>"
      ],
      "text/plain": [
       ":Overlay\n",
       "   .Histogram.I  :Histogram   [precision]   (precision_count)\n",
       "   .Histogram.II :Histogram   [recall]   (recall_count)"
      ]
     },
     "execution_count": 58,
     "metadata": {
      "application/vnd.holoviews_exec.v0+json": {
       "id": "9068"
      }
     },
     "output_type": "execute_result"
    }
   ],
   "source": [
    "data.hvplot.hist(y='precision').options(alpha=0.8) * data.hvplot.hist(y='recall').options(alpha=0.8)"
   ]
  },
  {
   "cell_type": "code",
   "execution_count": null,
   "metadata": {},
   "outputs": [],
   "source": []
  }
 ],
 "metadata": {
  "kernelspec": {
   "display_name": "Python 3",
   "language": "python",
   "name": "python3"
  },
  "language_info": {
   "codemirror_mode": {
    "name": "ipython",
    "version": 3
   },
   "file_extension": ".py",
   "mimetype": "text/x-python",
   "name": "python",
   "nbconvert_exporter": "python",
   "pygments_lexer": "ipython3",
   "version": "3.7.1"
  }
 },
 "nbformat": 4,
 "nbformat_minor": 2
}
